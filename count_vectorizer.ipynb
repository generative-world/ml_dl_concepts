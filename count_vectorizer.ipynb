{
  "nbformat": 4,
  "nbformat_minor": 0,
  "metadata": {
    "colab": {
      "provenance": [],
      "authorship_tag": "ABX9TyPDRha4PlEPmPvMgVJccYIv",
      "include_colab_link": true
    },
    "kernelspec": {
      "name": "python3",
      "display_name": "Python 3"
    },
    "language_info": {
      "name": "python"
    }
  },
  "cells": [
    {
      "cell_type": "markdown",
      "metadata": {
        "id": "view-in-github",
        "colab_type": "text"
      },
      "source": [
        "<a href=\"https://colab.research.google.com/github/generative-world/ml_dl_concepts/blob/master/count_vectorizer.ipynb\" target=\"_parent\"><img src=\"https://colab.research.google.com/assets/colab-badge.svg\" alt=\"Open In Colab\"/></a>"
      ]
    },
    {
      "cell_type": "code",
      "execution_count": null,
      "metadata": {
        "id": "P6Uh8Hx5Tuym"
      },
      "outputs": [],
      "source": [
        "# Import Required Libraries"
      ]
    },
    {
      "cell_type": "code",
      "source": [
        "# load and read data from file"
      ],
      "metadata": {
        "id": "z6l_sngGTvYR"
      },
      "execution_count": null,
      "outputs": []
    }
  ]
}